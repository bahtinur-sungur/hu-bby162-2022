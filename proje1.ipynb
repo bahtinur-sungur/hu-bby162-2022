{
  "nbformat": 4,
  "nbformat_minor": 0,
  "metadata": {
    "colab": {
      "name": "proje1.ipynb",
      "provenance": [],
      "collapsed_sections": [],
      "authorship_tag": "ABX9TyM6yFWwdgsoNJT9y5Pqgfoj",
      "include_colab_link": true
    },
    "kernelspec": {
      "name": "python3",
      "display_name": "Python 3"
    },
    "language_info": {
      "name": "python"
    }
  },
  "cells": [
    {
      "cell_type": "markdown",
      "metadata": {
        "id": "view-in-github",
        "colab_type": "text"
      },
      "source": [
        "<a href=\"https://colab.research.google.com/github/bahtinur-sungur/hu-bby162-2022/blob/main/proje1.ipynb\" target=\"_parent\"><img src=\"https://colab.research.google.com/assets/colab-badge.svg\" alt=\"Open In Colab\"/></a>"
      ]
    },
    {
      "cell_type": "code",
      "execution_count": 11,
      "metadata": {
        "colab": {
          "base_uri": "https://localhost:8080/"
        },
        "id": "d-OzfztB5Kuy",
        "outputId": "b91d76a6-724e-460b-8df8-65b3f4c6dde4"
      },
      "outputs": [
        {
          "output_type": "stream",
          "name": "stdout",
          "text": [
            "İndeks numarasını giriniz: 4\n",
            "demir\n"
          ]
        }
      ],
      "source": [
        "liste = (\"tavşan\", \"marul\", \"leopar\", \"salam\", \"demir\", \"tahta\")\n",
        "secim = input(\"İndeks numarasını giriniz: \")\n",
        "\n",
        "if (secim. isdigit()):\n",
        "  secim=int(secim)\n",
        "  listeToplam = len(liste)\n",
        "  if secim < listeToplam:\n",
        "     print(liste[secim])\n",
        "else:\n",
        "  print(\"indeks dışı giriş..!\")\n",
        "\n"
      ]
    }
  ]
}