{
  "nbformat": 4,
  "nbformat_minor": 0,
  "metadata": {
    "colab": {
      "name": "proje1.ipynb",
      "provenance": [],
      "collapsed_sections": [],
      "authorship_tag": "ABX9TyNkP/mqM5jjkPhmJiKv+q++",
      "include_colab_link": true
    },
    "kernelspec": {
      "name": "python3",
      "display_name": "Python 3"
    },
    "language_info": {
      "name": "python"
    }
  },
  "cells": [
    {
      "cell_type": "markdown",
      "metadata": {
        "id": "view-in-github",
        "colab_type": "text"
      },
      "source": [
        "<a href=\"https://colab.research.google.com/github/bahtinur-sungur/hu-bby162-2022/blob/main/proje1.ipynb\" target=\"_parent\"><img src=\"https://colab.research.google.com/assets/colab-badge.svg\" alt=\"Open In Colab\"/></a>"
      ]
    },
    {
      "cell_type": "code",
      "execution_count": 3,
      "metadata": {
        "colab": {
          "base_uri": "https://localhost:8080/"
        },
        "id": "d-OzfztB5Kuy",
        "outputId": "2f4239c8-041d-4c0b-de8e-44325a93cd9d"
      },
      "outputs": [
        {
          "output_type": "stream",
          "name": "stdout",
          "text": [
            "İndeks numarasını giriniz: 4\n",
            "demir\n"
          ]
        }
      ],
      "source": [
        "liste = (\"tavşan\", \"marul\", \"leopar\", \"salam\", \"demir\", \"tahta\")\n",
        "secim = input(\"İndeks numarasını giriniz: \")\n",
        "\n",
        "if (secim. isdigit()):\n",
        "  secim=int(secim)\n",
        "  listeToplam = len(liste)\n",
        "  if secim < listeToplam:\n",
        "     print(liste[secim])\n",
        "else:\n",
        "  print(\"indeks dışı giriş..!\")\n",
        "\n"
      ]
    },
    {
      "cell_type": "code",
      "source": [
        "liste = (\"tavşan\", \"marul\", \"leopar\", \"salam\", \"demir\", \"tahta\")\n",
        "secim = input(\"İndeks numarasını giriniz: \")\n",
        "\n",
        "if (secim. isdigit()):\n",
        "  secim=int(secim)\n",
        "  listeToplam = len(liste)\n",
        "  if secim < listeToplam:\n",
        "     print(liste[secim])\n",
        "else:\n",
        "  print(\"indeks dışı giriş..!\")\n"
      ],
      "metadata": {
        "colab": {
          "base_uri": "https://localhost:8080/"
        },
        "id": "cfpQkKv6b_9K",
        "outputId": "5632b53d-9724-45b1-d9d4-6c81ffafb2d7"
      },
      "execution_count": 5,
      "outputs": [
        {
          "output_type": "stream",
          "name": "stdout",
          "text": [
            "İndeks numarasını giriniz: tavşan\n",
            "indeks dışı giriş..!\n"
          ]
        }
      ]
    }
  ]
}