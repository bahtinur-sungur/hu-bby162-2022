{
  "nbformat": 4,
  "nbformat_minor": 0,
  "metadata": {
    "colab": {
      "name": "proje3.ipynb",
      "provenance": [],
      "collapsed_sections": [],
      "authorship_tag": "ABX9TyMapzqk+zqhHL2Ey89wXdK3",
      "include_colab_link": true
    },
    "kernelspec": {
      "name": "python3",
      "display_name": "Python 3"
    },
    "language_info": {
      "name": "python"
    }
  },
  "cells": [
    {
      "cell_type": "markdown",
      "metadata": {
        "id": "view-in-github",
        "colab_type": "text"
      },
      "source": [
        "<a href=\"https://colab.research.google.com/github/bahtinur-sungur/hu-bby162-2022/blob/main/proje3.ipynb\" target=\"_parent\"><img src=\"https://colab.research.google.com/assets/colab-badge.svg\" alt=\"Open In Colab\"/></a>"
      ]
    },
    {
      "cell_type": "code",
      "execution_count": 37,
      "metadata": {
        "id": "nUcvcMF4CKrN",
        "colab": {
          "base_uri": "https://localhost:8080/"
        },
        "outputId": "a029f35e-17f1-42f2-d9b0-00c3c10f492c"
      },
      "outputs": [
        {
          "output_type": "stream",
          "name": "stdout",
          "text": [
            "--Oyunumuza Hoşgeldiniz--\n",
            "Cevaplarınızı evet veya hayır olarak giriniz.\n",
            "İyi Oyunlar :)\n",
            "1. bilgi: 0 pozitif tam sayıdır.\n",
            "Cevabınız: hayır\n",
            "Bildiniz\n",
            "2. bilgi: En büyük negatif sayı -1'dir.\n",
            "Cevabınız: evet\n",
            "Bildiniz\n",
            "3. bilgi: İki basamaklı en küçük sayı -10'dur.\n",
            "Cevabınız: hayır\n",
            "Bildiniz\n",
            "4. bilgi: En küçük pozitif tam sayı 1'dir.\n",
            "Cevabınız: evet\n",
            "Bildiniz\n",
            "5. bilgi: -3 sayısı -5'ten küçüktür.\n",
            "Cevabınız: hayır\n",
            "Bildiniz\n",
            "Tebrikler. Bütün soruları doğru bildiniz\n",
            "Toplam puanınız:100\n"
          ]
        }
      ],
      "source": [
        "#Evet Hayır Oyunu\n",
        "\n",
        "print(\"--Oyunumuza Hoşgeldiniz--\")\n",
        "print(\"Cevaplarınızı evet veya hayır olarak giriniz.\")\n",
        "print(\"İyi Oyunlar :)\")\n",
        "\n",
        "bilgiler = [\"0 pozitif tam sayıdır.\", \"En büyük negatif sayı -1'dir.\", \"İki basamaklı en küçük sayı -10'dur.\", \"En küçük pozitif tam sayı 1'dir.\", \"-3 sayısı -5'ten küçüktür.\"]\n",
        "dogruCevap = [\"hayır\", \"evet\", \"hayır\", \"evet\", \"hayır\"]\n",
        "\n",
        "puan = 0\n",
        "print(\"1. bilgi: \" + bilgiler[0])\n",
        "cevap = input(\"Cevabınız: \")\n",
        "if cevap == dogruCevap[0]:\n",
        "  print(\"Bildiniz\")\n",
        "  puan += 20\n",
        "else:\n",
        "  print(\"Bilemediniz. Doğru cevap: hayır\")\n",
        "  \n",
        "print(\"2. bilgi: \" + bilgiler[1])\n",
        "cevap = input(\"Cevabınız: \")\n",
        "if cevap == dogruCevap[1]:\n",
        "  print(\"Bildiniz\")\n",
        "  puan += 20\n",
        "else:\n",
        "  print(\"Bilemediniz. Doğru cevap: evet\")\n",
        "\n",
        "print(\"3. bilgi: \" + bilgiler[2])\n",
        "cevap = input(\"Cevabınız: \")\n",
        "if cevap == dogruCevap[2]:\n",
        "  print(\"Bildiniz\")\n",
        "  puan += 20\n",
        "else:\n",
        "  print(\"Bilemediniz. Doğru cevap: hayır\")\n",
        "\n",
        "print(\"4. bilgi: \" + bilgiler[3])\n",
        "cevap = input(\"Cevabınız: \")\n",
        "if cevap == dogruCevap[3]:\n",
        "  print(\"Bildiniz\")\n",
        "  puan += 20\n",
        "else:\n",
        "  print(\"Bilemediniz. Doğru cevap: evet\")\n",
        "\n",
        "print(\"5. bilgi: \" + bilgiler[4])\n",
        "cevap = input(\"Cevabınız: \")\n",
        "if cevap == dogruCevap[4]:\n",
        "  print(\"Bildiniz\")\n",
        "  puan += 20\n",
        "else:\n",
        "  print(\"Bilemediniz. Doğru cevap: hayır\")\n",
        "  print(\"Toplam puanınız:\" + str(puan))\n",
        "\n",
        "if puan == 0:\n",
        "  print(\"Hiçbir soruyu bilemediniz\")\n",
        "  print(\"Toplam puanınız:\" + str(puan))\n",
        "\n",
        "elif puan == 20:\n",
        "  print(\"1 soruya doğru cevap verdiniz\")\n",
        "  print(\"Toplam puanınız:\" + str(puan))\n",
        "\n",
        "elif puan == 40:\n",
        "  print(\"2 soruya doğru cevap verdiniz\")\n",
        "  print(\"Toplam puanınız:\" + str(puan))\n",
        "\n",
        "elif puan == 60:\n",
        "  print(\"3 soruya doğru cevap verdiniz\")\n",
        "  print(\"Toplam puanınız:\" + str(puan))\n",
        "\n",
        "elif puan == 80:\n",
        "  print(\"4 soruya doğru cevap veriniz\")\n",
        "  print(\"Toplam puanınız:\" + str(puan))\n",
        "\n",
        "elif puan == 100:\n",
        "  print(\"Tebrikler. Bütün soruları doğru bildiniz\")\n",
        "  print(\"Toplam puanınız:\" + str(puan))\n"
      ]
    }
  ]
}