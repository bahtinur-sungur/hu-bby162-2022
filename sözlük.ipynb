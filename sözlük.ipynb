{
  "nbformat": 4,
  "nbformat_minor": 0,
  "metadata": {
    "colab": {
      "name": "sözlük.ipynb",
      "provenance": [],
      "collapsed_sections": [],
      "authorship_tag": "ABX9TyOAmRst/Xzemh4dER2s05S4",
      "include_colab_link": true
    },
    "kernelspec": {
      "name": "python3",
      "display_name": "Python 3"
    },
    "language_info": {
      "name": "python"
    }
  },
  "cells": [
    {
      "cell_type": "markdown",
      "metadata": {
        "id": "view-in-github",
        "colab_type": "text"
      },
      "source": [
        "<a href=\"https://colab.research.google.com/github/bahtinur-sungur/hu-bby162-2022/blob/main/s%C3%B6zl%C3%BCk.ipynb\" target=\"_parent\"><img src=\"https://colab.research.google.com/assets/colab-badge.svg\" alt=\"Open In Colab\"/></a>"
      ]
    },
    {
      "cell_type": "code",
      "execution_count": 4,
      "metadata": {
        "colab": {
          "base_uri": "https://localhost:8080/"
        },
        "id": "mZpEtAlXZRMx",
        "outputId": "164e3601-1a07-4c53-eb96-53296e249ea2"
      },
      "outputs": [
        {
          "output_type": "stream",
          "name": "stdout",
          "text": [
            "{'bir': 'one', 'iki': 'two', 'üç': 'three', 'dört': 'four', 'beş': 'five'}\n",
            "Kelimeyi giriniz: iki\n",
            "iki\n",
            "Sözlükte bu kelime var mı? - True\n",
            "two\n"
          ]
        }
      ],
      "source": [
        "#Sözlük \n",
        "\n",
        "#Sözlük oluşturuluyor\n",
        "sozluk = {\"bir\": \"one\", \"iki\": \"two\", \"üç\": \"three\", \"dört\": \"four\", \"beş\": \"five\"}\n",
        "print(sozluk)\n",
        "\n",
        "#Arama yapılacak kelime alınıyor\n",
        "arama= input(\"Kelimeyi giriniz: \")\n",
        "arama= arama.lower()\n",
        "print(arama)\n",
        "\n",
        "#Kelime sözlükte var mı?\n",
        "kontrol = arama in sozluk.keys()\n",
        "print(\"Sözlükte bu kelime var mı? - \" + str(kontrol))\n",
        "\n",
        "#Girilen kelimenin açıklamasını yazdır\n",
        "print(sozluk[arama])\n",
        "\n"
      ]
    }
  ]
}