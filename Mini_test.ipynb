{
  "nbformat": 4,
  "nbformat_minor": 0,
  "metadata": {
    "colab": {
      "name": "Mini test.ipynb",
      "provenance": [],
      "collapsed_sections": [],
      "authorship_tag": "ABX9TyPgH3nFVsscLmmou8mpSIqq",
      "include_colab_link": true
    },
    "kernelspec": {
      "name": "python3",
      "display_name": "Python 3"
    },
    "language_info": {
      "name": "python"
    }
  },
  "cells": [
    {
      "cell_type": "markdown",
      "metadata": {
        "id": "view-in-github",
        "colab_type": "text"
      },
      "source": [
        "<a href=\"https://colab.research.google.com/github/bahtinur-sungur/hu-bby162-2022/blob/main/Mini_test.ipynb\" target=\"_parent\"><img src=\"https://colab.research.google.com/assets/colab-badge.svg\" alt=\"Open In Colab\"/></a>"
      ]
    },
    {
      "cell_type": "code",
      "source": [
        "#Mini Test\n",
        "\n",
        "print(\"Bilgi yarışması başlıyor!\")\n",
        "print(\"Cevaplarınızı d veya y olarak giriniz.\")\n",
        "print(\"İyi Oyunlar!\")\n",
        "\n",
        "puan = 0\n",
        "\n",
        "bilgiler = [\"Sürüngenlerin yaşamadığı tek yer Antartika'dır.\", \"Doğuştan gözleri göremeyen insanlar rüya göremez.\",\"Sağ kulağımız müziği daha iyi duyar.\", \"Kadınların %70'i rimel sürerken ağzını açıyor.\"]\n",
        "cevaplar = [\"d\", \"d\", \"y\", \"y\"]\n",
        "\n",
        "print(\"1. bilgi: \" + bilgiler[0])\n",
        "cevap = input(\"Cevabınız: \")\n",
        "if cevap == cevaplar[0]:\n",
        "  print(\"Bildiniz\")\n",
        "  puan += 10\n",
        "else :\n",
        "  print(\"Bilemediniz\")\n",
        "\n",
        "print(\"2. bilgi: \" + bilgiler[1])\n",
        "cevap = input(\"Cevabınız: \")\n",
        "if cevap == cevaplar[1]:\n",
        "  print(\"Bildiniz\")\n",
        "  puan += 10\n",
        "else:\n",
        "  print(\"Bilemediniz.\")\n",
        "\n",
        "print(\"3. bilgi: \" + bilgiler[2])\n",
        "cevap = input(\"Cevabınız: \")\n",
        "if cevap == cevaplar[2]:\n",
        "  print(\"Bildiniz\")\n",
        "  puan += 10\n",
        "else:\n",
        "  print(\"Bilemediniz.\")\n",
        "\n",
        "print(\"4. bilgi: \" + bilgiler[3])\n",
        "cevap = input(\"Cevabınız: \")\n",
        "if cevap == cevaplar[3]:\n",
        "  print(\"Bildiniz\")\n",
        "  puan += 10\n",
        "else:\n",
        "  print(\"Bilemediniz\")\n",
        "\n",
        "\n",
        "print(\"Toplam puanınız:\" + str(puan))"
      ],
      "metadata": {
        "colab": {
          "base_uri": "https://localhost:8080/"
        },
        "id": "aDyimY6wJ6dD",
        "outputId": "4e7ef198-a8ee-416e-860e-f8ae03a5b93d"
      },
      "execution_count": 12,
      "outputs": [
        {
          "output_type": "stream",
          "name": "stdout",
          "text": [
            "Bilgi yarışması başlıyor!\n",
            "Cevaplarınızı d veya y olarak giriniz.\n",
            "İyi Oyunlar!\n",
            "1. bilgi: Sürüngenlerin yaşamadığı tek yer Antartika'dır.\n",
            "Cevabınız: d\n",
            "Bildiniz\n",
            "2. bilgi: Doğuştan gözleri göremeyen insanlar rüya göremez.\n",
            "Cevabınız: d\n",
            "Bildiniz\n",
            "3. bilgi: Sağ kulağımız müziği daha iyi duyar.\n",
            "Cevabınız: d\n",
            "Bilemediniz.\n",
            "4. bilgi: Kadınların %70'i rimel sürerken ağzını açıyor.\n",
            "Cevabınız: y\n",
            "Bildiniz\n",
            "Toplam puanınız:30\n"
          ]
        }
      ]
    }
  ]
}