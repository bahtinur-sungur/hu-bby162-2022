{
  "cells": [
    {
      "cell_type": "markdown",
      "metadata": {
        "id": "view-in-github",
        "colab_type": "text"
      },
      "source": [
        "<a href=\"https://colab.research.google.com/github/bahtinur-sungur/hu-bby162-2022/blob/main/Tahmin_Oyunu.ipynb\" target=\"_parent\"><img src=\"https://colab.research.google.com/assets/colab-badge.svg\" alt=\"Open In Colab\"/></a>"
      ]
    },
    {
      "cell_type": "code",
      "execution_count": null,
      "metadata": {
        "colab": {
          "base_uri": "https://localhost:8080/"
        },
        "id": "eRQl_5stY2PV",
        "outputId": "674bb7c7-1d23-4fdb-fed1-9aed49244e38"
      },
      "outputs": [
        {
          "output_type": "stream",
          "name": "stdout",
          "text": [
            "Kelime tahmin oyununa hoşgeldiniz...!\n",
            "İpucu: anlaşma, yapmak, satın almak, indirim\n",
            "Tahmininizi giriniz: pazarlık yapmak\n",
            "Yanlış cevap, bir daha deneyiniz...\n",
            "Kalan can sayısı: 2\n",
            "Tahmininizi giriniz: pazarlık\n",
            "Tebrikler bildiniz ve oyunu kazandınız!\n"
          ]
        }
      ],
      "source": [
        "import random\n",
        "print(\"Kelime tahmin oyununa hoşgeldiniz...!\")\n",
        "kelimeler = {\"koklamak\": \"burun, duyu, çiçek, parfüm\", \"pazarlık\": \"anlaşma, yapmak, satın almak, indirim\", \"nispet\": \"inat, üzmek, yapmak, bağıntı\", \"migren\":\"stres, baş ağrısı, ağrı kesici, serum\", \"zihniyet\": \"düşünce, görüş, anlayış, bakış\"}\n",
        "secilen = random.choice(list(kelimeler.keys()))\n",
        "print(\"İpucu: \"+ kelimeler[secilen])\n",
        "can = 3\n",
        "while True:\n",
        "  tahmin = input(\"Tahmininizi giriniz: \")\n",
        "  if secilen == tahmin:\n",
        "    print(\"Tebrikler bildiniz ve oyunu kazandınız!\")\n",
        "    break\n",
        "  else:\n",
        "    print(\"Yanlış cevap, bir daha deneyiniz...\")\n",
        "    can -=1\n",
        "    print(\"Kalan can sayısı: \"+str(can))\n",
        "    if can == 0:\n",
        "      print(\"Oyunu kaybettiniz!!!\")\n",
        "      break\n",
        "\n"
      ]
    }
  ],
  "metadata": {
    "colab": {
      "collapsed_sections": [],
      "name": "Tahmin Oyunu.ipynb",
      "provenance": [],
      "authorship_tag": "ABX9TyMnIphs7MxXBIB2nOI+3Ty0",
      "include_colab_link": true
    },
    "kernelspec": {
      "display_name": "Python 3",
      "name": "python3"
    },
    "language_info": {
      "name": "python"
    }
  },
  "nbformat": 4,
  "nbformat_minor": 0
}