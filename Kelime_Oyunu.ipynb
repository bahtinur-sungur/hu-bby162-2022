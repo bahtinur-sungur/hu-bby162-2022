{
  "nbformat": 4,
  "nbformat_minor": 0,
  "metadata": {
    "colab": {
      "name": "Kelime Oyunu",
      "provenance": [],
      "collapsed_sections": [],
      "authorship_tag": "ABX9TyPKSyp+eH8Z9B8c80K1niMG",
      "include_colab_link": true
    },
    "kernelspec": {
      "name": "python3",
      "display_name": "Python 3"
    },
    "language_info": {
      "name": "python"
    }
  },
  "cells": [
    {
      "cell_type": "markdown",
      "metadata": {
        "id": "view-in-github",
        "colab_type": "text"
      },
      "source": [
        "<a href=\"https://colab.research.google.com/github/bahtinur-sungur/hu-bby162-2022/blob/main/Kelime_Oyunu.ipynb\" target=\"_parent\"><img src=\"https://colab.research.google.com/assets/colab-badge.svg\" alt=\"Open In Colab\"/></a>"
      ]
    },
    {
      "cell_type": "code",
      "execution_count": 9,
      "metadata": {
        "id": "wP_bdFm7CVC4",
        "colab": {
          "base_uri": "https://localhost:8080/"
        },
        "outputId": "1b12a698-30d2-4c69-847e-5c734e93e407"
      },
      "outputs": [
        {
          "output_type": "stream",
          "name": "stdout",
          "text": [
            "İpuçlarından yararlanarak kelimeyi bulunuz. İyi Oyunlar...\n",
            "İpucu: burun, duyu, çiçek, parfüm\n",
            "Tahmininizi yazınız: koku\n",
            "İpucu: burun, duyu, çiçek, parfüm\n",
            "Tahmininizi yazınız: koklamak\n",
            "Tebrikler<3\n",
            "İpucu: anlaşma, yapmak, satın almak, indirim\n",
            "Tahmininizi yazınız: pazarlık yapmak\n",
            "İpucu: anlaşma, yapmak, satın almak, indirim\n",
            "Tahmininizi yazınız: pazarlık\n",
            "Tebrikler<3\n",
            "İpucu: inat, üzmek, yapmak, bağıntı\n",
            "Tahmininizi giriniz: nispet\n",
            "Tebrikler<3\n",
            "İpucu: stres, baş ağrısı, ağrı kesici, serum\n",
            "Tahmininizi yazınız: migren\n",
            "Tebrikler<3\n",
            "İpucu: düşünce, görüş, anlayış, bakış\n",
            "Tahmininizi yazınız: zihin\n",
            "Üzgünüz:(\n",
            "Toplam puanınız: 35\n"
          ]
        }
      ],
      "source": [
        "print(\"İpuçlarından yararlanarak kelimeyi bulunuz. İyi Oyunlar...\")\n",
        "liste = [\"koklamak\", \"pazarlık\", \"nispet\", \"migren\", \"zihniyet\"]\n",
        "can = 3\n",
        "puan = 0\n",
        "\n",
        "while can > 0:\n",
        "  print(\"İpucu: burun, duyu, çiçek, parfüm\")\n",
        "  tahmin = input(\"Tahmininizi yazınız: \")\n",
        "  if tahmin in liste:\n",
        "    puan += 10\n",
        "    print(\"Tebrikler<3\")\n",
        "    break\n",
        "  else:\n",
        "    can = can - 1\n",
        "  if can == 0:\n",
        "    puan -= 5\n",
        "    print(\"Üzgünüz:(\")   \n",
        "\n",
        "while can > 0:\n",
        "  print(\"İpucu: anlaşma, yapmak, satın almak, indirim\")\n",
        "  tahmin = input(\"Tahmininizi yazınız: \")\n",
        "  if tahmin in liste:\n",
        "    puan += 10\n",
        "    print(\"Tebrikler<3\")\n",
        "    break\n",
        "  else:\n",
        "    can = can - 1\n",
        "  if can == 0:\n",
        "    puan -= 5\n",
        "    print(\"Üzgünüz:(\") \n",
        "\n",
        "while can > 0:\n",
        "  print(\"İpucu: inat, üzmek, yapmak, bağıntı\")\n",
        "  tahmin = input(\"Tahmininizi giriniz: \")\n",
        "  if tahmin in liste:\n",
        "    puan += 10\n",
        "    print(\"Tebrikler<3\")\n",
        "    break\n",
        "  else:\n",
        "    can = can - 1\n",
        "  if can == 0:\n",
        "    puan -= 5\n",
        "    print(\"Üzgünüz:(\")    \n",
        "\n",
        "while can > 0:\n",
        "  print(\"İpucu: stres, baş ağrısı, ağrı kesici, serum\") \n",
        "  tahmin = input(\"Tahmininizi yazınız: \")\n",
        "  if tahmin in liste:\n",
        "    puan += 10\n",
        "    print(\"Tebrikler<3\")\n",
        "    break\n",
        "  else:\n",
        "    can = can - 1\n",
        "  if can == 0:\n",
        "    puan -= 5\n",
        "    print(\"Üzgünüz:(\")\n",
        "\n",
        "while can > 0:\n",
        "  print(\"İpucu: düşünce, görüş, anlayış, bakış\")\n",
        "  tahmin = input(\"Tahmininizi yazınız: \")\n",
        "  if tahmin in liste:\n",
        "    puan += 10\n",
        "    print(\"Tebrikler<3\")\n",
        "    break\n",
        "  else:\n",
        "    can = can - 1\n",
        "  if can == 0:\n",
        "    puan -= 5\n",
        "    print(\"Üzgünüz:(\")\n",
        "\n",
        "print(\"Toplam puanınız: \" + str(puan))"
      ]
    }
  ]
}