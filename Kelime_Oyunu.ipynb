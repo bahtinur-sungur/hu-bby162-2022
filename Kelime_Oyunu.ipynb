{
  "cells": [
    {
      "cell_type": "markdown",
      "metadata": {
        "id": "view-in-github",
        "colab_type": "text"
      },
      "source": [
        "<a href=\"https://colab.research.google.com/github/bahtinur-sungur/hu-bby162-2022/blob/main/Kelime_Oyunu.ipynb\" target=\"_parent\"><img src=\"https://colab.research.google.com/assets/colab-badge.svg\" alt=\"Open In Colab\"/></a>"
      ]
    },
    {
      "cell_type": "code",
      "execution_count": 3,
      "metadata": {
        "colab": {
          "base_uri": "https://localhost:8080/"
        },
        "id": "eRQl_5stY2PV",
        "outputId": "dbf64381-f890-4ee3-cabd-02290e8a57f0"
      },
      "outputs": [
        {
          "output_type": "stream",
          "name": "stdout",
          "text": [
            "İpuçlarından yararlanarak kelimeyi bulun\n",
            "İpucu: burun, duyu, çiçek, parfüm\n",
            "Tahmininizi giriniz:saff\n",
            "İpucu: burun, duyu, çiçek, parfüm\n",
            "Tahmininizi giriniz:fsgrafd\n",
            "İpucu: burun, duyu, çiçek, parfüm\n",
            "Tahmininizi giriniz:afds\n",
            "Üzgünüz:(\n",
            "İpucu: anlaşma, yapmak, satın almak, indirim\n",
            "Tahmininizi giriniz:fdsfvdsfs\n",
            "İpucu: anlaşma, yapmak, satın almak, indirim\n",
            "Tahmininizi giriniz:vsdfvdfv\n",
            "İpucu: anlaşma, yapmak, satın almak, indirim\n",
            "Tahmininizi giriniz:pazarlık\n",
            "Tebrikler<3\n",
            "İpucu: inat, üzmek, yapmak, bağıntı\n",
            "Tahmininizi giriniz:fgdsfgbgdb\n",
            "İpucu: inat, üzmek, yapmak, bağıntı\n",
            "Tahmininizi giriniz:gbfgb\n",
            "İpucu: inat, üzmek, yapmak, bağıntı\n",
            "Tahmininizi giriniz:bsdfgbfsdf\n",
            "Üzgünüz:(\n",
            "İpucu: stres, baş ağrısı, ağrı kesici, serum\n",
            "Tahmininizi giriniz:migren\n",
            "Tebrikler<3\n",
            "İpucu: düşünce, görüş, anlayış, bakış\n",
            "Tahmininizi giriniz:zihniyet\n",
            "Tebrikler<3\n"
          ]
        }
      ],
      "source": [
        "print(\"İpuçlarından yararlanarak kelimeyi bulun\")\n",
        "liste = [\"koklamak\", \"pazarlık\", \"nispet\", \"migren\", \"zihniyet\"]\n",
        "can = 3\n",
        "while can > 0:\n",
        "  print(\"İpucu: burun, duyu, çiçek, parfüm\")\n",
        "  tahmin = input(\"Tahmininizi giriniz:\")\n",
        "  if tahmin in liste:\n",
        "    print(\"Tebrikler<3\")\n",
        "    break\n",
        "  else:\n",
        "    can = can - 1\n",
        "  if can == 0:\n",
        "    print(\"Üzgünüz:(\")     \n",
        "\n",
        "can = 3 \n",
        "while can > 0:\n",
        "  print(\"İpucu: anlaşma, yapmak, satın almak, indirim\")\n",
        "  tahmin = input(\"Tahmininizi giriniz:\")\n",
        "  if tahmin in liste:\n",
        "    print(\"Tebrikler<3\")\n",
        "    break\n",
        "  else:\n",
        "    can = can - 1\n",
        "  if can == 0:\n",
        "    print(\"Üzgünüz:(\") \n",
        "\n",
        "can = 3\n",
        "while can > 0:\n",
        "  print(\"İpucu: inat, üzmek, yapmak, bağıntı\")\n",
        "  tahmin = input(\"Tahmininizi giriniz:\")\n",
        "  if tahmin in liste:\n",
        "    print(\"Tebrikler<3\")\n",
        "    break\n",
        "  else:\n",
        "    can = can - 1\n",
        "  if can == 0:\n",
        "    print(\"Üzgünüz:(\")    \n",
        "\n",
        "can = 3 \n",
        "while can > 0:\n",
        "  print(\"İpucu: stres, baş ağrısı, ağrı kesici, serum\") \n",
        "  tahmin = input(\"Tahmininizi giriniz:\")\n",
        "  if tahmin in liste:\n",
        "    print(\"Tebrikler<3\")\n",
        "    break\n",
        "  else:\n",
        "    can = can - 1\n",
        "  if can == 0:\n",
        "    print(\"Üzgünüz:(\")\n",
        "\n",
        "can = 3\n",
        "while can > 0:\n",
        "  print(\"İpucu: düşünce, görüş, anlayış, bakış\")\n",
        "  tahmin = input(\"Tahmininizi giriniz:\")\n",
        "  if tahmin in liste:\n",
        "    print(\"Tebrikler<3\")\n",
        "    break\n",
        "  else:\n",
        "    can = can - 1\n",
        "  if can == 0:\n",
        "    print(\"Üzgünüz:(\")\n",
        "\n",
        "\n"
      ]
    },
    {
      "cell_type": "code",
      "execution_count": 4,
      "metadata": {
        "colab": {
          "base_uri": "https://localhost:8080/",
          "height": 285
        },
        "id": "qOZYXnJO0vMs",
        "outputId": "362d594f-6087-4f24-a6aa-52632990b055"
      },
      "outputs": [
        {
          "output_type": "stream",
          "name": "stdout",
          "text": [
            "İpuçlarından yararlanarak kelimeyi bulun\n",
            "İpucu: burun, duyu, çiçek, parfüm\n",
            "Tahmininizi giriniz:koku\n",
            "İpucu: burun, duyu, çiçek, parfüm\n",
            "Tahmininizi giriniz:kokmak\n",
            "İpucu: burun, duyu, çiçek, parfüm\n",
            "Tahmininizi giriniz:kokulu\n",
            "Üzgünüz...\n"
          ]
        },
        {
          "output_type": "error",
          "ename": "SystemExit",
          "evalue": "ignored",
          "traceback": [
            "An exception has occurred, use %tb to see the full traceback.\n",
            "\u001b[0;31mSystemExit\u001b[0m\n"
          ]
        },
        {
          "output_type": "stream",
          "name": "stderr",
          "text": [
            "/usr/local/lib/python3.7/dist-packages/IPython/core/interactiveshell.py:2890: UserWarning: To exit: use 'exit', 'quit', or Ctrl-D.\n",
            "  warn(\"To exit: use 'exit', 'quit', or Ctrl-D.\", stacklevel=1)\n"
          ]
        }
      ],
      "source": [
        "import sys\n",
        "\n",
        "liste = [\"koklamak\", \"pazarlık\", \"nispet\", \"migren\", \"zihniyet\"]\n",
        "\n",
        "print(\"İpuçlarından yararlanarak kelimeyi bulun\")\n",
        "can = 3\n",
        "while can > 0:\n",
        "  print(\"İpucu: burun, duyu, çiçek, parfüm\")\n",
        "  tahmin = input(\"Tahmininizi giriniz:\")\n",
        "  if tahmin in liste:\n",
        "    print(\"Tebrikler<3\")\n",
        "    break\n",
        "  elif can <= 1:\n",
        "    print(\"Üzgünüz...\")\n",
        "    sys.exit()\n",
        "  else:\n",
        "    can = can - 1\n",
        "\n",
        "can = 3 \n",
        "while can > 0:\n",
        "  print(\"İpucu: anlaşma, yapmak, satın almak, indirim\")\n",
        "  tahmin = input(\"Tahmininizi giriniz:\")\n",
        "  if tahmin in liste:\n",
        "    print(\"Tebrikler<3\")\n",
        "    break\n",
        "  elif can <= 1:\n",
        "    print(\"Üzgünüz...\")\n",
        "    sys.exit()\n",
        "  else:\n",
        "    can = can - 1\n",
        "\n",
        "can = 3\n",
        "while can > 0:\n",
        "  print(\"İpucu: inat, üzmek, yapmak, bağıntı\")\n",
        "  tahmin = input(\"Tahmininizi giriniz:\")\n",
        "  if tahmin in liste:\n",
        "    print(\"Tebrikler<3\")\n",
        "    break\n",
        "  elif can <= 1:\n",
        "    print(\"Üzgünüz...\")\n",
        "    sys.exit()\n",
        "  else:\n",
        "    can = can - 1\n",
        "\n",
        "can = 3 \n",
        "while can > 0:\n",
        "  print(\"İpucu: stres, baş ağrısı, ağrı kesici, serum\") \n",
        "  tahmin = input(\"Tahmininizi giriniz:\")\n",
        "  if tahmin in liste:\n",
        "    print(\"Tebrikler<3\")\n",
        "    break\n",
        "  elif can <= 1:\n",
        "    print(\"Üzgünüz...\")\n",
        "    sys.exit()\n",
        "  else:\n",
        "    can = can - 1\n",
        "\n",
        "can = 3\n",
        "while can > 0:\n",
        "  print(\"İpucu: düşünce, görüş, anlayış, bakış\")\n",
        "  tahmin = input(\"Tahmininizi giriniz:\")\n",
        "  if tahmin in liste:\n",
        "    print(\"Tebrikler<3\")\n",
        "    break\n",
        "  elif can <= 1:\n",
        "    print(\"Üzgünüz...\")\n",
        "    sys.exit()\n",
        "  else:\n",
        "    can = can - 1"
      ]
    }
  ],
  "metadata": {
    "colab": {
      "collapsed_sections": [],
      "name": "Kelime Oyunu.ipynb",
      "provenance": [],
      "authorship_tag": "ABX9TyOEWEg8V8log8BpgXSvSIxV",
      "include_colab_link": true
    },
    "kernelspec": {
      "display_name": "Python 3",
      "name": "python3"
    },
    "language_info": {
      "name": "python"
    }
  },
  "nbformat": 4,
  "nbformat_minor": 0
}