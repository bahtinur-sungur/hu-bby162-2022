{
  "nbformat": 4,
  "nbformat_minor": 0,
  "metadata": {
    "colab": {
      "name": "Kelime Oyunu2.jpynb",
      "provenance": [],
      "collapsed_sections": [],
      "authorship_tag": "ABX9TyMUIOR0hd3mNv3gwfl9mbxi",
      "include_colab_link": true
    },
    "kernelspec": {
      "name": "python3",
      "display_name": "Python 3"
    },
    "language_info": {
      "name": "python"
    }
  },
  "cells": [
    {
      "cell_type": "markdown",
      "metadata": {
        "id": "view-in-github",
        "colab_type": "text"
      },
      "source": [
        "<a href=\"https://colab.research.google.com/github/bahtinur-sungur/hu-bby162-2022/blob/main/Kelime_Oyunu2_jpynb.ipynb\" target=\"_parent\"><img src=\"https://colab.research.google.com/assets/colab-badge.svg\" alt=\"Open In Colab\"/></a>"
      ]
    },
    {
      "cell_type": "code",
      "execution_count": 15,
      "metadata": {
        "id": "wP_bdFm7CVC4",
        "colab": {
          "base_uri": "https://localhost:8080/"
        },
        "outputId": "47df86bb-824e-48a5-c27c-7851f6c135ca"
      },
      "outputs": [
        {
          "output_type": "stream",
          "name": "stdout",
          "text": [
            "İpuçlarından yararlanarak kelimeyi bulunuz.\n",
            "Toplamda 3 yanlış tahminde bulunma hakkınız vardır. 3. yanlış tahminde oyun sona ermektedir.\n",
            "İyi Oyunlar :)\n",
            "İpucu: burun, duyu, çiçek, parfüm\n",
            "Tahmininizi yazınız: koku\n",
            "İpucu: burun, duyu, çiçek, parfüm\n",
            "Tahmininizi yazınız: koklamak\n",
            "Tebrikler<3\n",
            "İpucu: anlaşma, yapmak, satın almak, indirim\n",
            "Tahmininizi yazınız: pazarlık yapmak\n",
            "İpucu: anlaşma, yapmak, satın almak, indirim\n",
            "Tahmininizi yazınız: pazarlık\n",
            "Tebrikler<3\n",
            "İpucu: inat, üzmek, yapmak, bağıntı\n",
            "Tahmininizi giriniz: nispet yapmak\n",
            "Üzgünüz:(\n",
            "Toplam puanınız: 15\n"
          ]
        }
      ],
      "source": [
        "print(\"İpuçlarından yararlanarak kelimeyi bulunuz.\")\n",
        "print(\"Toplamda 3 yanlış tahminde bulunma hakkınız vardır. 3. yanlış tahminde oyun sona ermektedir.\")\n",
        "print(\"İyi Oyunlar :)\")\n",
        "\n",
        "liste = [\"koklamak\", \"pazarlık\", \"nispet\", \"migren\", \"zihniyet\"]\n",
        "can = 3\n",
        "puan = 0\n",
        "\n",
        "while can > 0:\n",
        "  print(\"İpucu: burun, duyu, çiçek, parfüm\")\n",
        "  tahmin = input(\"Tahmininizi yazınız: \")\n",
        "  if tahmin in liste:\n",
        "    puan += 10\n",
        "    print(\"Tebrikler<3\")\n",
        "    break\n",
        "  else:\n",
        "    can = can - 1\n",
        "  if can == 0:\n",
        "    puan -= 5\n",
        "    print(\"Üzgünüz:(\")   \n",
        "\n",
        "while can > 0:\n",
        "  print(\"İpucu: anlaşma, yapmak, satın almak, indirim\")\n",
        "  tahmin = input(\"Tahmininizi yazınız: \")\n",
        "  if tahmin in liste:\n",
        "    puan += 10\n",
        "    print(\"Tebrikler<3\")\n",
        "    break\n",
        "  else:\n",
        "    can = can - 1\n",
        "  if can == 0:\n",
        "    puan -= 5\n",
        "    print(\"Üzgünüz:(\") \n",
        "\n",
        "while can > 0:\n",
        "  print(\"İpucu: inat, üzmek, yapmak, bağıntı\")\n",
        "  tahmin = input(\"Tahmininizi giriniz: \")\n",
        "  if tahmin in liste:\n",
        "    puan += 10\n",
        "    print(\"Tebrikler<3\")\n",
        "    break\n",
        "  else:\n",
        "    can = can - 1\n",
        "  if can == 0:\n",
        "    puan -= 5\n",
        "    print(\"Üzgünüz:(\")   \n",
        "\n",
        "while can > 0:\n",
        "  print(\"İpucu: stres, baş ağrısı, ağrı kesici, serum\") \n",
        "  tahmin = input(\"Tahmininizi yazınız: \")\n",
        "  if tahmin in liste:\n",
        "    puan += 10\n",
        "    print(\"Tebrikler<3\")\n",
        "    break\n",
        "  else:\n",
        "    can = can - 1\n",
        "  if can == 0:\n",
        "    puan -= 5\n",
        "    print(\"Üzgünüz:(\")\n",
        "\n",
        "while can > 0:\n",
        "  print(\"İpucu: düşünce, görüş, anlayış, bakış\")\n",
        "  tahmin = input(\"Tahmininizi yazınız: \")\n",
        "  if tahmin in liste:\n",
        "    puan += 10\n",
        "    print(\"Tebrikler<3\")\n",
        "    break\n",
        "  else:\n",
        "    can = can - 1\n",
        "  if can == 0:\n",
        "    puan -= 5\n",
        "    print(\"Üzgünüz:(\")\n",
        "\n",
        "print(\"Toplam puanınız: \" + str(puan))"
      ]
    }
  ]
}