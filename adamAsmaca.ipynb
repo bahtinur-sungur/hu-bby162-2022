{
  "cells": [
    {
      "cell_type": "markdown",
      "metadata": {
        "id": "view-in-github",
        "colab_type": "text"
      },
      "source": [
        "<a href=\"https://colab.research.google.com/github/bahtinur-sungur/hu-bby162-2022/blob/main/adamAsmaca.ipynb\" target=\"_parent\"><img src=\"https://colab.research.google.com/assets/colab-badge.svg\" alt=\"Open In Colab\"/></a>"
      ]
    },
    {
      "cell_type": "code",
      "execution_count": 2,
      "metadata": {
        "colab": {
          "base_uri": "https://localhost:8080/"
        },
        "id": "1wNwlA792NxT",
        "outputId": "3b1b968e-3521-4c61-bcf5-a81a0d7370f2"
      },
      "outputs": [
        {
          "output_type": "stream",
          "name": "stdout",
          "text": [
            "['_', '_', '_', '_', '_']\n",
            "Bir harf giriniz: m,\n",
            "['_', '_', '_', '_', '_']\n",
            "Kalan can: 4\n",
            "Bir harf giriniz: i\n",
            "['_', '_', '_', 'i', '_']\n",
            "Kalan can: 4\n",
            "Bir harf giriniz: l\n",
            "['_', '_', '_', 'i', '_']\n",
            "Kalan can: 3\n",
            "Bir harf giriniz: h\n",
            "['h', '_', '_', 'i', '_']\n",
            "Kalan can: 3\n",
            "Bir harf giriniz: ö\n",
            "['h', '_', '_', 'i', '_']\n",
            "Kalan can: 2\n",
            "Bir harf giriniz: m\n",
            "['h', '_', '_', 'i', 'm']\n",
            "Kalan can: 2\n",
            "Bir harf giriniz: m\n",
            "['h', '_', '_', 'i', 'm']\n",
            "Kalan can: 2\n",
            "Bir harf giriniz: j\n",
            "['h', '_', '_', 'i', 'm']\n",
            "Kalan can: 1\n",
            "Bir harf giriniz: j\n",
            "['h', '_', '_', 'i', 'm']\n",
            "Kalan can: 0\n"
          ]
        }
      ],
      "source": [
        "from random import choice\n",
        "\n",
        "def oyunBasla(adamCan):\n",
        "  kelimeler = [\"fizyoterapist\", \"başhemşire\", \"diyetisyen\", \"istatistikçi\", \"sosyolog\", \"biyolog\", \"jeolog\", \"cerrah\", \"mimar\", \"aşçı\", \"pilot\", \"vale\", \"hakim\", \"ebe\"]\n",
        "  secilenKelime = choice(kelimeler)\n",
        "\n",
        "  dizilenKelime = []\n",
        "  for diz in secilenKelime:\n",
        "    dizilenKelime.append(\"_\")\n",
        "  print(dizilenKelime)\n",
        "\n",
        "  while adamCan > 0:\n",
        "    girilenHarf = input(\"Bir harf giriniz: \")\n",
        "    canKontrol = girilenHarf in secilenKelime\n",
        "    if canKontrol == False:\n",
        "       adamCan -= 1\n",
        "    i = 0\n",
        "    for kontrol in secilenKelime:\n",
        "      if secilenKelime[i] == girilenHarf:\n",
        "         dizilenKelime[i] = girilenHarf\n",
        "      i += 1\n",
        "    print(dizilenKelime)\n",
        "    print(\"Kalan can: \" + str(adamCan))   \n",
        "\n",
        "oyunBasla(5)"
      ]
    }
  ],
  "metadata": {
    "colab": {
      "collapsed_sections": [],
      "name": "adamAsmaca.ipynb",
      "provenance": [],
      "authorship_tag": "ABX9TyPEXNcrD6xygXfhWp8Ucb10",
      "include_colab_link": true
    },
    "kernelspec": {
      "display_name": "Python 3",
      "name": "python3"
    },
    "language_info": {
      "name": "python"
    }
  },
  "nbformat": 4,
  "nbformat_minor": 0
}