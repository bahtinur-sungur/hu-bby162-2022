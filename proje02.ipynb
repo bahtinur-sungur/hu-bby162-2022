{
  "cells": [
    {
      "cell_type": "markdown",
      "metadata": {
        "id": "view-in-github",
        "colab_type": "text"
      },
      "source": [
        "<a href=\"https://colab.research.google.com/github/bahtinur-sungur/hu-bby162-2022/blob/main/proje02.ipynb\" target=\"_parent\"><img src=\"https://colab.research.google.com/assets/colab-badge.svg\" alt=\"Open In Colab\"/></a>"
      ]
    },
    {
      "cell_type": "code",
      "execution_count": null,
      "metadata": {
        "id": "1wNwlA792NxT",
        "colab": {
          "base_uri": "https://localhost:8080/",
          "height": 353
        },
        "outputId": "43709841-ff98-44c3-bac4-49998af39e53"
      },
      "outputs": [
        {
          "name": "stdout",
          "output_type": "stream",
          "text": [
            "---Adam Asmaca Oyununa Hoşgeldiniz---\n",
            "Oyunumuz Meslekler Kategorisinden Oluşmaktadır\n",
            "İyi Oyunlar :) \n",
            "Seviye seçiniz: 1 - 2 - 3\n",
            "Seviye: 2\n",
            "Bir harf giriniz: i\n"
          ]
        },
        {
          "output_type": "error",
          "ename": "NameError",
          "evalue": "ignored",
          "traceback": [
            "\u001b[0;31m---------------------------------------------------------------------------\u001b[0m",
            "\u001b[0;31mNameError\u001b[0m                                 Traceback (most recent call last)",
            "\u001b[0;32m<ipython-input-9-d7f2f1ba060e>\u001b[0m in \u001b[0;36m<module>\u001b[0;34m()\u001b[0m\n\u001b[1;32m     27\u001b[0m \u001b[0;32mwhile\u001b[0m \u001b[0madamCan\u001b[0m \u001b[0;34m>\u001b[0m \u001b[0;36m0\u001b[0m\u001b[0;34m:\u001b[0m\u001b[0;34m\u001b[0m\u001b[0;34m\u001b[0m\u001b[0m\n\u001b[1;32m     28\u001b[0m     \u001b[0mgirilenHarf\u001b[0m \u001b[0;34m=\u001b[0m \u001b[0minput\u001b[0m\u001b[0;34m(\u001b[0m\u001b[0;34m\"Bir harf giriniz: \"\u001b[0m\u001b[0;34m)\u001b[0m\u001b[0;34m\u001b[0m\u001b[0;34m\u001b[0m\u001b[0m\n\u001b[0;32m---> 29\u001b[0;31m     \u001b[0mcanKontrol\u001b[0m \u001b[0;34m=\u001b[0m \u001b[0mgirilenHarf\u001b[0m \u001b[0;32min\u001b[0m \u001b[0msecilenKelime\u001b[0m\u001b[0;34m\u001b[0m\u001b[0;34m\u001b[0m\u001b[0m\n\u001b[0m\u001b[1;32m     30\u001b[0m     \u001b[0;32mif\u001b[0m \u001b[0mcanKontrol\u001b[0m \u001b[0;34m==\u001b[0m \u001b[0;32mFalse\u001b[0m\u001b[0;34m:\u001b[0m\u001b[0;34m\u001b[0m\u001b[0;34m\u001b[0m\u001b[0m\n\u001b[1;32m     31\u001b[0m         \u001b[0madamCan\u001b[0m\u001b[0;34m-=\u001b[0m\u001b[0;36m1\u001b[0m\u001b[0;34m\u001b[0m\u001b[0;34m\u001b[0m\u001b[0m\n",
            "\u001b[0;31mNameError\u001b[0m: name 'secilenKelime' is not defined"
          ]
        }
      ],
      "source": [
        "print(\"---Adam Asmaca Oyununa Hoşgeldiniz---\")\n",
        "print(\"Oyunumuz Meslekler Kategorisinden Oluşmaktadır\")\n",
        "print(\"İyi Oyunlar :) \")\n",
        "\n",
        "from random import randint\n",
        "\n",
        "seviye = \"\"\n",
        "adamCan = 5\n",
        "\n",
        "def seviyeSec():\n",
        "  print(\"Seviye seçiniz: 1 - 2 - 3\")\n",
        "  seviye = input(\"Seviye: \")\n",
        "\n",
        "seviyeSec()\n",
        "\n",
        "def oyna(adamCan):\n",
        "  kelimeler = [\"fizyoterapist\", \"başhemşire\", \"diyetisyen\", \"istatistikçi\", \"sosyolog\", \"biyolog\", \"jeolog\", \"cerrah\", \"mimar\", \"aşçı\", \"pilot\", \"vale\", \"hakim\", \"ebe\"]\n",
        "  kelimeSayisi = len(kelimeler)\n",
        "  secilen = randint(0, kelimeSayisi-1)\n",
        "  secilenKelime = kelimeler(secilen)\n",
        "\n",
        "  dizilenKelime = []\n",
        "  for diz in kelimeler[secilen]:\n",
        "    dizilenKelime.append(\"_\")\n",
        "    print(dizilenKelime)\n",
        "\n",
        "while adamCan > 0:\n",
        "    girilenHarf = input(\"Bir harf giriniz: \")\n",
        "    canKontrol = girilenHarf in secilenKelime\n",
        "    if canKontrol == False:\n",
        "        adamCan-=1\n",
        "    i = 0\n",
        "    for kontrol in secilenKelime:\n",
        "        if secilenKelime[i] == girilenHarf:\n",
        "           dizilenKelime[i] = girilenHarf\n",
        "        i+=1\n",
        "    print(dizilenKelime)\n",
        "    print(\"Kalan can: \"+ str(adamCan))\n",
        "\n",
        "if seviye == \"1\":\n",
        "  oyna(1)\n",
        "elif seviye == \"2\":\n",
        "  oyna(2)\n",
        "elif seviye == \"3\":\n",
        "  oyna(3)\n",
        "else:\n",
        "  print(\"Geçerli bir seviye girmediniz...\")\n",
        "\n",
        "seviyeSec()"
      ]
    }
  ],
  "metadata": {
    "colab": {
      "collapsed_sections": [],
      "name": "proje02.ipynb",
      "provenance": [],
      "authorship_tag": "ABX9TyOMPIkqg2qjc1fTUVgY/XiL",
      "include_colab_link": true
    },
    "kernelspec": {
      "display_name": "Python 3",
      "name": "python3"
    },
    "language_info": {
      "name": "python"
    }
  },
  "nbformat": 4,
  "nbformat_minor": 0
}