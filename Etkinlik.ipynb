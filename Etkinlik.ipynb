{
  "nbformat": 4,
  "nbformat_minor": 0,
  "metadata": {
    "colab": {
      "name": "Etkinlik",
      "provenance": [],
      "authorship_tag": "ABX9TyNF+OSJnIxTXjriQDGEv03d",
      "include_colab_link": true
    },
    "kernelspec": {
      "name": "python3",
      "display_name": "Python 3"
    },
    "language_info": {
      "name": "python"
    }
  },
  "cells": [
    {
      "cell_type": "markdown",
      "metadata": {
        "id": "view-in-github",
        "colab_type": "text"
      },
      "source": [
        "<a href=\"https://colab.research.google.com/github/bahtinur-sungur/hu-bby162-2022/blob/main/Etkinlik.ipynb\" target=\"_parent\"><img src=\"https://colab.research.google.com/assets/colab-badge.svg\" alt=\"Open In Colab\"/></a>"
      ]
    },
    {
      "cell_type": "code",
      "execution_count": 13,
      "metadata": {
        "colab": {
          "base_uri": "https://localhost:8080/"
        },
        "id": "fSgfDsBMrQKr",
        "outputId": "91453356-bbc0-420c-870e-242407750b56"
      },
      "outputs": [
        {
          "output_type": "stream",
          "name": "stdout",
          "text": [
            "kullanıcı adı giriniz: sdffhtyjyu\n",
            "Girdiğiniz kullanıcı adı: sdffhtyjyu\n",
            "kullanıcı adı kontrol limitimiz 18'dir.\n",
            "girdiğiniz kullanıcı adının uzunluğu 10'dir\n",
            "Girdiğiniz kullanıcı adı kontrol sonucu geçti: False\n"
          ]
        }
      ],
      "source": [
        "kontrolLimit = 18\n",
        "kullaniciAdi = input(\"kullanıcı adı giriniz: \")\n",
        "print(\"Girdiğiniz kullanıcı adı: \" + kullaniciAdi)\n",
        "print(\"kullanıcı adı kontrol limitimiz %d'dir.\" % kontrolLimit)\n",
        "limitHesap = len(kullaniciAdi)\n",
        "print(\"girdiğiniz kullanıcı adının uzunluğu %d'dir\" % limitHesap)\n",
        "kontrolEt = kontrolLimit < limitHesap\n",
        "print(\"Girdiğiniz kullanıcı adı kontrol sonucu geçti: \" + str(kontrolEt))"
      ]
    }
  ]
}