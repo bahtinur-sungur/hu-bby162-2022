{
  "nbformat": 4,
  "nbformat_minor": 0,
  "metadata": {
    "colab": {
      "name": "Untitled1.ipynb",
      "provenance": [],
      "authorship_tag": "ABX9TyMJEcAdvgPEzqKhyey6vywa",
      "include_colab_link": true
    },
    "kernelspec": {
      "name": "python3",
      "display_name": "Python 3"
    },
    "language_info": {
      "name": "python"
    }
  },
  "cells": [
    {
      "cell_type": "markdown",
      "metadata": {
        "id": "view-in-github",
        "colab_type": "text"
      },
      "source": [
        "<a href=\"https://colab.research.google.com/github/bahtinur-sungur/hu-bby162-2022/blob/main/Kelime%20oyunu.ipynb\" target=\"_parent\"><img src=\"https://colab.research.google.com/assets/colab-badge.svg\" alt=\"Open In Colab\"/></a>"
      ]
    },
    {
      "cell_type": "code",
      "execution_count": 24,
      "metadata": {
        "colab": {
          "base_uri": "https://localhost:8080/"
        },
        "id": "rlZZOTop8JSl",
        "outputId": "3481b85f-27d0-462b-ac05-7ddd212504c7"
      },
      "outputs": [
        {
          "output_type": "stream",
          "name": "stdout",
          "text": [
            "Güncel kavramlardan tahminde bulun!\n",
            "İpucu= burun, duyu, çiçek, parfüm\n",
            "Tahmininizi giriniz:sjkdhfekf\n",
            "İpucu= burun, duyu, çiçek, parfüm\n",
            "Tahmininizi giriniz:wdjhjfherf\n",
            "İpucu= burun, duyu, çiçek, parfüm\n",
            "Tahmininizi giriniz:dkhwf\n",
            "Üzgünüz:(\n",
            "İpucu= anlaşma, yapmak, satın almak, indirim\n",
            "Tahmininizi giriniz: pazarlık\n",
            "Tebrikler<3\n",
            "İpucu= inat, üzmek, yapmak, bağıntı\n",
            "Tahmininizi giriniz:nispet\n",
            "Tebrikler<3\n"
          ]
        }
      ],
      "source": [
        "print(\"Güncel kavramlardan tahminde bulun!\")\n",
        "liste = [\"koklamak\", \"pazarlık\", \"nispet\", \"migren\", \"zihniyet\", \"desen\", \"abiye\"]\n",
        "can = 3\n",
        "while can > 0:\n",
        "  print(\"İpucu= burun, duyu, çiçek, parfüm\")\n",
        "  tahmin = input(\"Tahmininizi giriniz:\")\n",
        "  if tahmin in liste:\n",
        "    print(\"Tebrikler<3\")\n",
        "    break\n",
        "  else:\n",
        "    can = can - 1\n",
        "  if can == 0:\n",
        "    print(\"Üzgünüz:(\")\n",
        "liste = [\"koklamak\", \"pazarlık\", \"nispet\", \"migren\", \"zihniyet\", \"desen\", \"abiye\"]\n",
        "can = 3\n",
        "while can > 0:\n",
        "  print(\"İpucu= anlaşma, yapmak, satın almak, indirim\")\n",
        "  tahmin = input(\"Tahmininizi giriniz: \")\n",
        "  if tahmin in liste:\n",
        "    print(\"Tebrikler<3\")\n",
        "    break\n",
        "  else:\n",
        "    can = can - 1\n",
        "  if can == 0:\n",
        "    print(\"Üzgünüz:(\")\n",
        "liste = [\"koklamak\", \"pazarlık\", \"nispet\", \"migren\", \"zihniyet\", \"desen\", \"abiye\"]\n",
        "can = 3 \n",
        "while can > 0:\n",
        "  print(\"İpucu= inat, üzmek, yapmak, bağıntı\")\n",
        "  tahmin = input(\"Tahmininizi giriniz:\")\n",
        "  if tahmin in liste:\n",
        "    print(\"Tebrikler<3\")\n",
        "    break\n",
        "  else:\n",
        "     can = can - 1\n",
        "  if can == 0:\n",
        "      print(\"Üzgünüz:(\")  \n",
        "\n",
        "   \n"
      ]
    }
  ]
}