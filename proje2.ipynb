{
  "cells": [
    {
      "cell_type": "markdown",
      "metadata": {
        "id": "view-in-github",
        "colab_type": "text"
      },
      "source": [
        "<a href=\"https://colab.research.google.com/github/bahtinur-sungur/hu-bby162-2022/blob/main/proje2.ipynb\" target=\"_parent\"><img src=\"https://colab.research.google.com/assets/colab-badge.svg\" alt=\"Open In Colab\"/></a>"
      ]
    },
    {
      "cell_type": "code",
      "execution_count": null,
      "metadata": {
        "id": "1wNwlA792NxT"
      },
      "outputs": [],
      "source": [
        "print(\"---Adam Asmaca Oyununa Hoşgeldiniz---\")\n",
        "print(\"Oyunumuz Meslekler Kategorisinden Oluşmaktadır\")\n",
        "print(\"İyi Oyunlar :) \")\n",
        "\n",
        "from random import randint\n",
        "\n",
        "seviye = \"\"\n",
        "adamCan = 5\n",
        "\n",
        "def seviyeSec():\n",
        "  print(\"Seviye seçiniz: 1 - 2 - 3\")\n",
        "  seviye = input(\"Seviye: \")\n",
        "\n",
        "seviyeSec()\n",
        "\n",
        "def oyna(adamCan):\n",
        "  kelimeler = [\"fizyoterapist\", \"başhemşire\", \"diyetisyen\", \"istatistikçi\", \"sosyolog\", \"biyolog\", \"jeolog\", \"cerrah\", \"mimar\", \"aşçı\", \"pilot\", \"vale\", \"hakim\", \"ebe\"]\n",
        "  kelimeSayisi = len(kelimeler)\n",
        "  secilen = randint(0, kelimeSayisi-1)\n",
        "  secilenKelime = kelimeler[secilen]\n",
        "  print(secilenKelime)\n",
        "\n",
        "  dizilenKelime = []\n",
        "  for diz in kelimeler[secilen]:\n",
        "    dizilenKelime.append(\"_\")\n",
        "  print(dizilenKelime)\n",
        "\n",
        "while adamCan > 0:\n",
        "    girilenHarf = input(\"Bir harf giriniz: \")\n",
        "    canKontrol = girilenHarf in secilenKelime\n",
        "    if canKontrol == False:\n",
        "        adamCan-=1\n",
        "    i = 0\n",
        "    for kontrol in secilenKelime:\n",
        "        if secilenKelime[i] == girilenHarf:\n",
        "           dizilenKelime[i] = girilenHarf\n",
        "        i+=1\n",
        "    print(dizilenKelime)\n",
        "    print(\"Kalan can: \"+ str(adamCan))\n",
        "\n",
        "if seviye == \"1\":\n",
        "  oyna(1)\n",
        "elif seviye == \"2\":\n",
        "  oyna(2)\n",
        "elif seviye == \"3\":\n",
        "  oyna(3)\n",
        "else:\n",
        "  print(\"Geçerli bir seviye girmediniz...\")\n",
        "\n",
        "seviyeSec()"
      ]
    },
    {
      "cell_type": "code",
      "source": [
        "from random import choice\n",
        "\n",
        "def oyunBasla(adamCan):\n",
        "  kelimeler = [\"fizyoterapist\", \"başhemşire\", \"diyetisyen\", \"istatistikçi\", \"sosyolog\", \"biyolog\", \"jeolog\", \"cerrah\", \"mimar\", \"aşçı\", \"pilot\", \"vale\", \"hakim\", \"ebe\"]\n",
        "  secilenKelime = choice(kelimeler)\n",
        "\n",
        "  dizilenKelime = []\n",
        "  for diz in secilenKelime:\n",
        "    dizilenKelime.append(\"_\")\n",
        "  print(dizilenKelime)\n",
        "\n",
        "  while adamCan > 0:\n",
        "    girilenHarf = input(\"Bir harf giriniz: \")\n",
        "    canKontrol = girilenHarf in secilenKelime\n",
        "    if canKontrol == False:\n",
        "       adamCan -= 1\n",
        "    i = 0\n",
        "    for kontrol in secilenKelime:\n",
        "      if secilenKelime[i] == girilenHarf:\n",
        "         dizilenKelime[i] = girilenHarf\n",
        "      i += 1\n",
        "    print(dizilenKelime)\n",
        "    print(\"Kalan can: \" + str(adamCan))   \n",
        "\n",
        "oyunBasla(5)"
      ],
      "metadata": {
        "colab": {
          "base_uri": "https://localhost:8080/"
        },
        "id": "8igdEamZLQqp",
        "outputId": "2e7bae87-1a6f-4632-a1eb-74d7dea5e0d3"
      },
      "execution_count": null,
      "outputs": [
        {
          "output_type": "stream",
          "name": "stdout",
          "text": [
            "['_', '_', '_', '_', '_', '_', '_', '_', '_', '_', '_', '_']\n",
            "Bir harf giriniz: i\n",
            "['i', '_', '_', '_', '_', 'i', '_', '_', 'i', '_', '_', 'i']\n",
            "Kalan can: 5\n",
            "Bir harf giriniz: s\n",
            "['i', 's', '_', '_', '_', 'i', 's', '_', 'i', '_', '_', 'i']\n",
            "Kalan can: 5\n",
            "Bir harf giriniz: t\n",
            "['i', 's', 't', '_', 't', 'i', 's', 't', 'i', '_', '_', 'i']\n",
            "Kalan can: 5\n",
            "Bir harf giriniz: a\n",
            "['i', 's', 't', 'a', 't', 'i', 's', 't', 'i', '_', '_', 'i']\n",
            "Kalan can: 5\n",
            "Bir harf giriniz: k\n",
            "['i', 's', 't', 'a', 't', 'i', 's', 't', 'i', 'k', '_', 'i']\n",
            "Kalan can: 5\n",
            "Bir harf giriniz: ç\n",
            "['i', 's', 't', 'a', 't', 'i', 's', 't', 'i', 'k', 'ç', 'i']\n",
            "Kalan can: 5\n"
          ]
        }
      ]
    }
  ],
  "metadata": {
    "colab": {
      "collapsed_sections": [],
      "name": "proje2.ipynb",
      "provenance": [],
      "authorship_tag": "ABX9TyNMZX5ZwaftVttyoCg61WRs",
      "include_colab_link": true
    },
    "kernelspec": {
      "display_name": "Python 3",
      "name": "python3"
    },
    "language_info": {
      "name": "python"
    }
  },
  "nbformat": 4,
  "nbformat_minor": 0
}